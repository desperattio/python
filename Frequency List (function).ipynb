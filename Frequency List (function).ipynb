{
 "cells": [
  {
   "cell_type": "markdown",
   "metadata": {},
   "source": [
    "Задача: написать функцию для построения частотного списка."
   ]
  },
  {
   "cell_type": "code",
   "execution_count": 1,
   "metadata": {},
   "outputs": [],
   "source": [
    "from collections import Counter\n",
    "from nltk import word_tokenize"
   ]
  },
  {
   "cell_type": "code",
   "execution_count": 4,
   "metadata": {},
   "outputs": [],
   "source": [
    "def build_frq(file_name, tokenize=True, lowercase=False):\n",
    "    \"\"\"a function to build a frequency list; input is a file name\"\"\"\n",
    "    \n",
    "    c = Counter()\n",
    "    \n",
    "    with open(file_name, 'r', encoding='utf-8') as inp:\n",
    "        with open(file_name + '.frq.txt', 'w', encoding='utf-8') as out:\n",
    "             \n",
    "            for line in inp:\n",
    "                if lowercase:\n",
    "                   line = line.lower()\n",
    "                if tokenize:\n",
    "                    c.update(word_tokenize(line.strip()))\n",
    "                else:\n",
    "                    c.update(line.strip().split())\n",
    "            \n",
    "            for item in c.most_common():\n",
    "                out.write(item[0] + '\\t' + str(item[1]) + '\\n')"
   ]
  },
  {
   "cell_type": "code",
   "execution_count": 5,
   "metadata": {},
   "outputs": [],
   "source": [
    "def main():\n",
    "    build_frq('corpus.txt')\n",
    "\n",
    "if __name__ == '__main__':\n",
    "    main()"
   ]
  }
 ],
 "metadata": {
  "kernelspec": {
   "display_name": "Python 3",
   "language": "python",
   "name": "python3"
  },
  "language_info": {
   "codemirror_mode": {
    "name": "ipython",
    "version": 3
   },
   "file_extension": ".py",
   "mimetype": "text/x-python",
   "name": "python",
   "nbconvert_exporter": "python",
   "pygments_lexer": "ipython3",
   "version": "3.7.3"
  }
 },
 "nbformat": 4,
 "nbformat_minor": 2
}
