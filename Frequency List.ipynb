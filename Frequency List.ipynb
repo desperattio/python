{
 "cells": [
  {
   "cell_type": "markdown",
   "metadata": {},
   "source": [
    "Задача: построить частотный список слов для входного файла corpus.txt."
   ]
  },
  {
   "cell_type": "code",
   "execution_count": 7,
   "metadata": {},
   "outputs": [],
   "source": [
    "from collections import Counter\n",
    "\n",
    "#заводим счетчик\n",
    "c = Counter()"
   ]
  },
  {
   "cell_type": "code",
   "execution_count": 11,
   "metadata": {},
   "outputs": [],
   "source": [
    "#открываем файлы для чтения и для записи\n",
    "with open('corpus.txt', 'r', encoding='utf-8') as inp:\n",
    "    with open('freq_list.txt', 'w', encoding='utf-8') as out:\n",
    "    \n",
    "    #считываем файл построчно, удаляем переносы строк, разбиваем текст на токены, обновляем информацию о частотности в счетчике\n",
    "        for line in inp:\n",
    "            c.update(line.strip().split())\n",
    "            \n",
    "    #вписываем в файл ключи отсортированного списка\n",
    "        for item in c.most_common():\n",
    "            out.write(item[0] + '\\t' + str(item[1]) + '\\n')"
   ]
  }
 ],
 "metadata": {
  "kernelspec": {
   "display_name": "Python 3",
   "language": "python",
   "name": "python3"
  },
  "language_info": {
   "codemirror_mode": {
    "name": "ipython",
    "version": 3
   },
   "file_extension": ".py",
   "mimetype": "text/x-python",
   "name": "python",
   "nbconvert_exporter": "python",
   "pygments_lexer": "ipython3",
   "version": "3.7.3"
  }
 },
 "nbformat": 4,
 "nbformat_minor": 2
}
