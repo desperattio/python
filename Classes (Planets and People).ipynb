{
 "cells": [
  {
   "cell_type": "markdown",
   "metadata": {},
   "source": [
    "Задача состоит в реализации 2 классов: один класс для создания объектов планет, второй - для создания объектов людей. При инициализации класса людей, у объекта должно появляться два атрибута: имя и возраст. При инициализации класса планет, у объекта должны появляться 2 аттрибута: имя и население. У класса планет должен быть атрибут add_human, который пополняет население планеты объектом класса людей. При добавлении объекта класса людей в население планеты должно выводиться на экран приветствие человека на планете (с её названием) и именем человека."
   ]
  },
  {
   "cell_type": "code",
   "execution_count": 1,
   "metadata": {},
   "outputs": [],
   "source": [
    "class Planet:\n",
    "    '''Initiating planet's name and population'''\n",
    "    \n",
    "    def __init__(self, planet_name, population=[]):\n",
    "        self.name = planet_name\n",
    "        self.population = population or []\n",
    "        \n",
    "    def add_human(self, human):\n",
    "        self.population.append(human)\n",
    "        print(f'We welcome you on our planet {self.name}, {human.person_name}.')"
   ]
  },
  {
   "cell_type": "code",
   "execution_count": 2,
   "metadata": {},
   "outputs": [],
   "source": [
    "class Human:\n",
    "    '''Initiating person's name and age'''\n",
    "    \n",
    "    def __init__(self, person_name, person_age):\n",
    "        self.person_name = person_name\n",
    "        self.age = person_age"
   ]
  },
  {
   "cell_type": "code",
   "execution_count": 3,
   "metadata": {},
   "outputs": [
    {
     "name": "stdout",
     "output_type": "stream",
     "text": [
      "We welcome you on our planet Pluto, Mrs. Hudson.\n"
     ]
    }
   ],
   "source": [
    "planet = Planet('Pluto')\n",
    "person = Human('Mrs. Hudson', 65)\n",
    "\n",
    "planet.add_human(person)"
   ]
  },
  {
   "cell_type": "code",
   "execution_count": 5,
   "metadata": {},
   "outputs": [
    {
     "ename": "TypeError",
     "evalue": "'Planet' object is not callable",
     "output_type": "error",
     "traceback": [
      "\u001b[1;31m---------------------------------------------------------------------------\u001b[0m",
      "\u001b[1;31mTypeError\u001b[0m                                 Traceback (most recent call last)",
      "\u001b[1;32m<ipython-input-5-72d560103c98>\u001b[0m in \u001b[0;36m<module>\u001b[1;34m\u001b[0m\n\u001b[1;32m----> 1\u001b[1;33m \u001b[0mplanet\u001b[0m\u001b[1;33m(\u001b[0m\u001b[1;33m)\u001b[0m\u001b[1;33m\u001b[0m\u001b[1;33m\u001b[0m\u001b[0m\n\u001b[0m",
      "\u001b[1;31mTypeError\u001b[0m: 'Planet' object is not callable"
     ]
    }
   ],
   "source": []
  }
 ],
 "metadata": {
  "kernelspec": {
   "display_name": "Python 3",
   "language": "python",
   "name": "python3"
  },
  "language_info": {
   "codemirror_mode": {
    "name": "ipython",
    "version": 3
   },
   "file_extension": ".py",
   "mimetype": "text/x-python",
   "name": "python",
   "nbconvert_exporter": "python",
   "pygments_lexer": "ipython3",
   "version": "3.7.3"
  }
 },
 "nbformat": 4,
 "nbformat_minor": 2
}
