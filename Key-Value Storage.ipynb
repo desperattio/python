{
 "cells": [
  {
   "cell_type": "markdown",
   "metadata": {},
   "source": [
    "Задача: реализовать свой собственный key-value storage. Программа должна принимать в качестве аргументов ключи и значения и выводить информацию из хранилища (в нашем случае — из файла)."
   ]
  },
  {
   "cell_type": "markdown",
   "metadata": {},
   "source": [
    "В начале импортируем нужные нам библиотеки и указываем путь, где будет лежать хранилище."
   ]
  },
  {
   "cell_type": "code",
   "execution_count": null,
   "metadata": {},
   "outputs": [],
   "source": [
    "import argparse, json, tempfile, os\n",
    "from pathlib import Path\n",
    "\n",
    "storage_path = os.path.join(tempfile.gettempdir(), 'storage.json')"
   ]
  },
  {
   "cell_type": "code",
   "execution_count": null,
   "metadata": {},
   "outputs": [],
   "source": [
    "#создание файла хранилища\n",
    "def make_storage():\n",
    "    Path(storage_path).touch()\n",
    "\n",
    "    if os.stat(storage_path).st_size == 0:\n",
    "        return {}\n",
    "    \n",
    "    with open(storage_path, 'r') as file:\n",
    "        data = file.readlines()[0]\n",
    "        return json.loads(data)"
   ]
  },
  {
   "cell_type": "code",
   "execution_count": null,
   "metadata": {},
   "outputs": [],
   "source": [
    "#добавление в хранилище ключей и значений\n",
    "def write(key, value):\n",
    "    storage = make_storage()\n",
    "\n",
    "    if key in storage:  \n",
    "        storage[key].append(value)\n",
    "    else:\n",
    "        storage[key] = [value]\n",
    "\n",
    "    with open(storage_path, 'w') as f:    \n",
    "        f.write(json.dumps(storage))"
   ]
  },
  {
   "cell_type": "code",
   "execution_count": null,
   "metadata": {},
   "outputs": [],
   "source": [
    "def main():\n",
    "    parser = argparse.ArgumentParser()\n",
    "    parser.add_argument('--key')\n",
    "    parser.add_argument('--val')\n",
    "    args = parser.parse_args()\n",
    "\n",
    "    storage = make_storage()\n",
    "    \n",
    "    if args.key and args.val:\n",
    "        write(args.key, args.val)\n",
    "    elif args.key:\n",
    "        print(storage.get(args.key))"
   ]
  },
  {
   "cell_type": "code",
   "execution_count": null,
   "metadata": {},
   "outputs": [],
   "source": [
    "if __name__ == '__main__':\n",
    "    main()"
   ]
  }
 ],
 "metadata": {
  "kernelspec": {
   "display_name": "Python 3",
   "language": "python",
   "name": "python3"
  },
  "language_info": {
   "codemirror_mode": {
    "name": "ipython",
    "version": 3
   },
   "file_extension": ".py",
   "mimetype": "text/x-python",
   "name": "python",
   "nbconvert_exporter": "python",
   "pygments_lexer": "ipython3",
   "version": "3.7.3"
  }
 },
 "nbformat": 4,
 "nbformat_minor": 2
}
